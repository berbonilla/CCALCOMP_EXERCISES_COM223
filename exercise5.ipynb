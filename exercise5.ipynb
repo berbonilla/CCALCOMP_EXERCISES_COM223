{
  "cells": [
    {
      "cell_type": "markdown",
      "metadata": {
        "id": "-8bYOEC8HOQ4"
      },
      "source": [
        "# Exercise 5\n",
        "\n",
        "Please follow the instructions in each number."
      ]
    },
    {
      "cell_type": "markdown",
      "metadata": {
        "id": "FEPXLUAPHOQ6"
      },
      "source": [
        "### Maximum Subarray\n",
        "Given an array of integers nums, find the subarray with the largest sum and return the sum.\n",
        "\n",
        "A subarray is a contiguous non-empty sequence of elements within an array.\n",
        "\n",
        "\n",
        "\n",
        "Example 1:\n",
        "\n",
        "Input: nums = [2,-3,4,-2,2,1,-1,4]\n",
        "\n",
        "Output: 8\n",
        "\n",
        "Explanation: The subarray [4,-2,2,1,-1,4] has the largest sum 8."
      ]
    },
    {
      "cell_type": "markdown",
      "metadata": {
        "id": "D4a-4yS4HOQ7"
      },
      "source": [
        "## Tasks"
      ]
    },
    {
      "cell_type": "markdown",
      "metadata": {
        "id": "v8mlE6kYHOQ7"
      },
      "source": [
        "1. Put your student number in a list and manually compute the maximum subarray in your student number (`10 points`)"
      ]
    },
    {
      "cell_type": "code",
      "execution_count": 11,
      "metadata": {
        "vscode": {
          "languageId": "plaintext"
        },
        "id": "YJMIVpuTHOQ8",
        "colab": {
          "base_uri": "https://localhost:8080/"
        },
        "outputId": "ab5001b1-90d4-47de-8217-bf51fa3b43dd"
      },
      "outputs": [
        {
          "output_type": "stream",
          "name": "stdout",
          "text": [
            "17\n"
          ]
        }
      ],
      "source": [
        "student_num = [2, 0, 2, 2, 1, 0, 2, 5, 0, 3]\n",
        "\n",
        "max_sum = float('-inf')\n",
        "max_subarray = []\n",
        "\n",
        "for i in range(len(student_num)):\n",
        "    current_sum = 0\n",
        "    for j in range(i, len(student_num)):\n",
        "        current_sum += student_num[j]\n",
        "        if current_sum > max_sum:\n",
        "            max_sum = current_sum\n",
        "            max_subarray = student_num[i:j+1]\n",
        "\n",
        "print(max_sum)"
      ]
    },
    {
      "cell_type": "markdown",
      "metadata": {
        "id": "nchQgI2KHOQ8"
      },
      "source": [
        "2. Write a program using a brute-force approach to get the maximum-subarray of your student number (`40 points`)"
      ]
    },
    {
      "cell_type": "code",
      "execution_count": 9,
      "metadata": {
        "vscode": {
          "languageId": "plaintext"
        },
        "id": "b9P6oe11HOQ9",
        "colab": {
          "base_uri": "https://localhost:8080/"
        },
        "outputId": "7e1ddb57-39dc-44ae-c30d-974c2db677cd"
      },
      "outputs": [
        {
          "output_type": "stream",
          "name": "stdout",
          "text": [
            "17\n"
          ]
        }
      ],
      "source": [
        "def max_subarray_brute_force(nums):\n",
        "    max_sum = float('-inf')\n",
        "\n",
        "    for i in range(len(nums)):\n",
        "        current_sum = 0\n",
        "        for j in range(i, len(nums)):\n",
        "            current_sum += nums[j]\n",
        "            max_sum = max(max_sum, current_sum)\n",
        "\n",
        "    return max_sum\n",
        "\n",
        "student_num = [2, 0, 2, 2, 1, 0, 2, 5, 0, 3]\n",
        "result = max_subarray_brute_force(student_num)\n",
        "print(result)"
      ]
    },
    {
      "cell_type": "markdown",
      "metadata": {
        "id": "NkqAxIx_HOQ9"
      },
      "source": [
        "3. Write a program using a dynamic programming to get the maximum-subarray of your student number (`50 points`)"
      ]
    },
    {
      "cell_type": "code",
      "execution_count": 8,
      "metadata": {
        "vscode": {
          "languageId": "plaintext"
        },
        "id": "BFBp2ARLHOQ9",
        "colab": {
          "base_uri": "https://localhost:8080/"
        },
        "outputId": "ce4d600a-e614-4e6e-8daa-47249c198974"
      },
      "outputs": [
        {
          "output_type": "stream",
          "name": "stdout",
          "text": [
            "17\n"
          ]
        }
      ],
      "source": [
        "def max_subarray_dp(nums):\n",
        "    max_sum = nums[0]\n",
        "    current_sum = nums[0]\n",
        "\n",
        "    for i in range(1, len(nums)):\n",
        "        current_sum = max(nums[i], current_sum + nums[i])\n",
        "        max_sum = max(max_sum, current_sum)\n",
        "\n",
        "    return max_sum\n",
        "\n",
        "student_num = [2, 0, 2, 2, 1, 0, 2, 5, 0, 3]\n",
        "result = max_subarray_dp(student_num)\n",
        "print(result)\n"
      ]
    }
  ],
  "metadata": {
    "colab": {
      "provenance": []
    },
    "kernelspec": {
      "display_name": "base",
      "language": "python",
      "name": "python3"
    },
    "language_info": {
      "codemirror_mode": {
        "name": "ipython",
        "version": 3
      },
      "file_extension": ".py",
      "mimetype": "text/x-python",
      "name": "python",
      "nbconvert_exporter": "python",
      "pygments_lexer": "ipython3",
      "version": "3.9.6"
    }
  },
  "nbformat": 4,
  "nbformat_minor": 0
}