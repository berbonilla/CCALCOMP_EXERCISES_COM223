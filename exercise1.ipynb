{
  "cells": [
    {
      "cell_type": "markdown",
      "metadata": {
        "id": "3-prKGbfwFRd"
      },
      "source": [
        "# Exercise 1"
      ]
    },
    {
      "cell_type": "markdown",
      "metadata": {
        "id": "kBW-_z9HwFRf"
      },
      "source": [
        "Please follow the instructions in each number. Do not remove or modify the pre-defined code!"
      ]
    },
    {
      "cell_type": "code",
      "execution_count": 87,
      "metadata": {
        "id": "ABAdD_ngwFRg"
      },
      "outputs": [],
      "source": [
        "# Add a vertex to the set of vertices and the graph\n",
        "def add_vertex(v):\n",
        "  global graph\n",
        "  global vertices_no\n",
        "  global vertices\n",
        "  if v in vertices:\n",
        "    print(\"Vertex \", v, \" already exists\")\n",
        "  else:\n",
        "    vertices_no = vertices_no + 1\n",
        "    vertices.append(v)\n",
        "    if vertices_no > 1:\n",
        "        for vertex in graph:\n",
        "            vertex.append(0)\n",
        "    temp = []\n",
        "    for i in range(vertices_no):\n",
        "        temp.append(0)\n",
        "    graph.append(temp)\n",
        "\n",
        "# Add an edge between vertex v1 and v2 with edge weight e\n",
        "def add_edge(v1, v2, e):\n",
        "    global graph\n",
        "    global vertices_no\n",
        "    global vertices\n",
        "    # Check if vertex v1 is a valid vertex\n",
        "    if v1 not in vertices:\n",
        "        print(\"Vertex \", v1, \" does not exist.\")\n",
        "    # Check if vertex v1 is a valid vertex\n",
        "    elif v2 not in vertices:\n",
        "        print(\"Vertex \", v2, \" does not exist.\")\n",
        "    # Since this code is not restricted to a directed or\n",
        "    # an undirected graph, an edge between v1 v2 does not\n",
        "    # imply that an edge exists between v2 and v1\n",
        "    else:\n",
        "        index1 = vertices.index(v1)\n",
        "        index2 = vertices.index(v2)\n",
        "        graph[index1][index2] = e\n",
        "\n",
        "# Print the graph\n",
        "def print_graph():\n",
        "  global graph\n",
        "  global vertices_no\n",
        "  for i in range(vertices_no):\n",
        "    for j in range(vertices_no):\n",
        "      if graph[i][j] != 0:\n",
        "        print(vertices[i], \" -> \", vertices[j],\n",
        "              \" edge weight: \", graph[i][j])"
      ]
    },
    {
      "cell_type": "code",
      "execution_count": 88,
      "metadata": {
        "id": "912w9tR0wFRh"
      },
      "outputs": [],
      "source": [
        "# stores the vertices in the graph\n",
        "vertices = []\n",
        "# stores the number of vertices in the graph\n",
        "vertices_no = 0\n",
        "graph = []"
      ]
    },
    {
      "cell_type": "markdown",
      "metadata": {
        "id": "lzkib3wYwFRh"
      },
      "source": [
        "<img src=\"https://github.com/robitussin/CCALCOMP_EXERCISES/blob/main/images/directed%20graph2.png?raw=true\"/>"
      ]
    },
    {
      "cell_type": "markdown",
      "metadata": {
        "id": "Qfh-2gbPwFRi"
      },
      "source": [
        "1. Print the edges and vertices of the graph in set representation. (`25 points`)"
      ]
    },
    {
      "cell_type": "code",
      "execution_count": 89,
      "metadata": {
        "id": "FSymqoxmwFRi",
        "colab": {
          "base_uri": "https://localhost:8080/"
        },
        "outputId": "a77f1143-90b3-42bd-b816-38bf7b20f44e"
      },
      "outputs": [
        {
          "output_type": "stream",
          "name": "stdout",
          "text": [
            "V = { A,B,C,D,E,}\n",
            "E = {( A C ),( A D ),( B A ),( C B ),( C D ),( E A ),}\n"
          ]
        }
      ],
      "source": [
        "add_vertex('A')\n",
        "add_vertex('B')\n",
        "add_vertex('C')\n",
        "add_vertex('D')\n",
        "add_vertex('E')\n",
        "\n",
        "add_edge('B', 'A', 10)\n",
        "add_edge('C', 'B', 20)\n",
        "add_edge('C', 'D', 32)\n",
        "add_edge('A', 'D', 60)\n",
        "add_edge('A', 'C', 12)\n",
        "add_edge('E', 'A', 7)\n",
        "\n",
        "print(\"V = { \",end = \"\")\n",
        "for i in vertices:\n",
        "    print(i,end = \",\")\n",
        "print(\"}\")\n",
        "\n",
        "print(\"E = {\",end = \"\")\n",
        "for i in range(vertices_no):\n",
        "    for j in range(vertices_no):\n",
        "      if graph[i][j] != 0:\n",
        "        print(\"(\",vertices[i],vertices[j],\")\",end = \",\")\n",
        "print(\"}\")"
      ]
    },
    {
      "cell_type": "markdown",
      "metadata": {
        "id": "NHt6QEFzwFRi"
      },
      "source": [
        "2. Implement the weighted graph in python code. Use the print_graph() function. (`25 points`)"
      ]
    },
    {
      "cell_type": "code",
      "execution_count": 90,
      "metadata": {
        "id": "fcYP9VF9wFRj",
        "colab": {
          "base_uri": "https://localhost:8080/"
        },
        "outputId": "2a23837e-a888-4cc2-e95d-79624300ca7f"
      },
      "outputs": [
        {
          "output_type": "stream",
          "name": "stdout",
          "text": [
            "A  ->  C  edge weight:  12\n",
            "A  ->  D  edge weight:  60\n",
            "B  ->  A  edge weight:  10\n",
            "C  ->  B  edge weight:  20\n",
            "C  ->  D  edge weight:  32\n",
            "E  ->  A  edge weight:  7\n"
          ]
        }
      ],
      "source": [
        "# stores the vertices in the graph\n",
        "vertices = []\n",
        "# stores the number of vertices in the graph\n",
        "vertices_no = 0\n",
        "graph = []\n",
        "\n",
        "add_vertex('A')\n",
        "add_vertex('B')\n",
        "add_vertex('C')\n",
        "add_vertex('D')\n",
        "add_vertex('E')\n",
        "\n",
        "add_edge('B', 'A', 10)\n",
        "add_edge('C', 'B', 20)\n",
        "add_edge('C', 'D', 32)\n",
        "add_edge('A', 'D', 60)\n",
        "add_edge('A', 'C', 12)\n",
        "add_edge('E', 'A', 7)\n",
        "\n",
        "print_graph()"
      ]
    },
    {
      "cell_type": "markdown",
      "metadata": {
        "id": "kD-6afNTwFRj"
      },
      "source": [
        "3. You decided to go on a trip around the philippines. Being a computer scientist, you wanted to find the optimal route that would cost the least amount of money to travel all four cities. Find the route and print the total cost of the most optimal route. (`50 points`)"
      ]
    },
    {
      "cell_type": "markdown",
      "metadata": {
        "id": "cBHIHSIewFRj"
      },
      "source": [
        "<img src=\"https://github.com/robitussin/CCALCOMP_EXERCISES/blob/main/images/trip.png?raw=true\" width=\"500\" height=\"600\"/>"
      ]
    },
    {
      "cell_type": "code",
      "execution_count": 101,
      "metadata": {
        "id": "yNwmvIXnwFRj",
        "colab": {
          "base_uri": "https://localhost:8080/"
        },
        "outputId": "9370ded9-2531-4c3f-ec51-6166e03b3c52"
      },
      "outputs": [
        {
          "output_type": "stream",
          "name": "stdout",
          "text": [
            "Optimal Route: Manila -> Tacloban -> Puerto Princesa -> Davao -> Manila -> \n",
            "Cost:  11500\n"
          ]
        }
      ],
      "source": [
        "# stores the vertices in the graph\n",
        "vertices = []\n",
        "# stores the number of vertices in the graph\n",
        "vertices_no = 0\n",
        "graph = []\n",
        "\n",
        "def tsp(adj_matrix, cities):\n",
        "    n = len(adj_matrix)\n",
        "    all_nodes = [i for i in range(n)]\n",
        "    shortest_path = []\n",
        "    min_cost = float('inf')\n",
        "\n",
        "    def dfs(node, visited, path, cost):\n",
        "        nonlocal min_cost, shortest_path\n",
        "\n",
        "        if len(visited) == n:\n",
        "            if adj_matrix[node][0] != 0 and cost + adj_matrix[node][0] < min_cost:\n",
        "                min_cost = cost + adj_matrix[node][0]\n",
        "                shortest_path = path + [0]\n",
        "\n",
        "        for next_node in range(n):\n",
        "            if next_node not in visited and adj_matrix[node][next_node] != 0:\n",
        "                dfs(next_node, visited.union({next_node}), path + [next_node], cost + adj_matrix[node][next_node])\n",
        "\n",
        "    dfs(0, {0}, [0], 0)\n",
        "\n",
        "    return shortest_path, min_cost\n",
        "\n",
        "add_vertex('Manila')\n",
        "add_vertex('Tacloban')\n",
        "add_vertex('Davao')\n",
        "add_vertex('Puerto Princesa')\n",
        "\n",
        "add_edge('Manila', 'Davao', 5000)\n",
        "add_edge('Manila', 'Puerto Princesa', 8000)\n",
        "add_edge('Manila', 'Tacloban', 1000)\n",
        "add_edge('Davao', 'Puerto Princesa', 4000)\n",
        "add_edge('Davao', 'Tacloban', 2000)\n",
        "add_edge('Davao', 'Manila', 5000)\n",
        "add_edge('Tacloban', 'Puerto Princesa', 1500)\n",
        "add_edge('Tacloban', 'Manila', 1000)\n",
        "add_edge('Tacloban', 'Davao', 2000)\n",
        "add_edge('Puerto Princesa', 'Tacloban', 1500)\n",
        "add_edge('Puerto Princesa', 'Davao', 4000)\n",
        "add_edge('Puerto Princesa', 'Manila', 8000)\n",
        "\n",
        "cities = ['Manila', 'Tacloban', 'Davao', 'Puerto Princesa']\n",
        "\n",
        "cycle_nodes, total_weight = tsp(graph, cities)\n",
        "city_cycle = [cities[node] for node in cycle_nodes]\n",
        "\n",
        "print(\"Optimal Route: \",end=\"\")\n",
        "for i in city_cycle:\n",
        "  print(i, end=\" -> \")\n",
        "print(\"\\nCost: \", total_weight)\n"
      ]
    },
    {
      "cell_type": "code",
      "source": [],
      "metadata": {
        "id": "MuznFhH9NfY7"
      },
      "execution_count": 91,
      "outputs": []
    }
  ],
  "metadata": {
    "kernelspec": {
      "display_name": "base",
      "language": "python",
      "name": "python3"
    },
    "language_info": {
      "codemirror_mode": {
        "name": "ipython",
        "version": 3
      },
      "file_extension": ".py",
      "mimetype": "text/x-python",
      "name": "python",
      "nbconvert_exporter": "python",
      "pygments_lexer": "ipython3",
      "version": "3.9.6"
    },
    "colab": {
      "provenance": []
    }
  },
  "nbformat": 4,
  "nbformat_minor": 0
}